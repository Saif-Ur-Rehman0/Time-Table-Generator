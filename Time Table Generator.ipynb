{
  "nbformat": 4,
  "nbformat_minor": 0,
  "metadata": {
    "colab": {
      "name": "18L_1215, 18L_1014_and_18L_1121.ipynb",
      "provenance": [],
      "collapsed_sections": []
    },
    "kernelspec": {
      "display_name": "Python 3",
      "name": "python3"
    },
    "language_info": {
      "name": "python"
    }
  },
  "cells": [
    {
      "cell_type": "markdown",
      "metadata": {
        "id": "aG4msfoelsSL"
      },
      "source": [
        "#18L-1215, 18L-1014 and 18L-1121"
      ]
    },
    {
      "cell_type": "markdown",
      "metadata": {
        "id": "u-l7kI2f8DaT"
      },
      "source": [
        "#####Data Alteration"
      ]
    },
    {
      "cell_type": "code",
      "metadata": {
        "id": "Qo2uqkua8Cwo"
      },
      "source": [
        "import numpy as np\n",
        "import pandas as pd\n",
        "import random\n",
        "room_capacity=pd.read_csv('Capacity.csv', header=None)\n",
        "Slots=pd.read_csv('DaysSlots.csv', header=None)\n",
        "R_data=pd.read_csv('R_Data.csv')\n",
        "grouped_df = R_data.groupby([\"SID\\CID\"])\n",
        "grouped_and_summed = grouped_df.sum()\n",
        "grouped_and_summed = grouped_and_summed.reset_index()\n",
        "StdInCourse = grouped_and_summed.sum(axis=0)\n",
        "Courses_of_Sdd = grouped_and_summed.sum(axis=1)\n",
        "StdInCourse=StdInCourse.drop([\"SID\\CID\"], axis=0)\n",
        "NoOfStdInCourse=StdInCourse.to_numpy()\n",
        "r=room_capacity.iloc[: , 1:]\n",
        "room_cap=r.to_numpy().flatten()\n",
        "Arr=grouped_and_summed.drop(['SID\\CID'], axis=1)\n",
        "N=Arr.to_numpy().astype(int)\n",
        "Student_courses=[]\n",
        "for i in N:\n",
        "    Array=[]\n",
        "    count=0\n",
        "    for j in i:\n",
        "        if(j==1):\n",
        "            Array.append(count+1)\n",
        "        count+=1;\n",
        "    Student_courses.append(Array)\n",
        "A=Slots.to_numpy()\n",
        "B=room_capacity.to_numpy()\n",
        "num_rows, num_cols = B.shape\n",
        "cols=grouped_and_summed.columns.to_numpy()[1:]\n",
        "courses=cols.astype(int)\n",
        "NoOfTimeSlots=A[0][1]*A[1][1]\n",
        "NoOfRooms=num_rows"
      ],
      "execution_count": null,
      "outputs": []
    },
    {
      "cell_type": "markdown",
      "metadata": {
        "id": "fZZEnMeT7p3S"
      },
      "source": [
        "#####Fitness Function"
      ]
    },
    {
      "cell_type": "code",
      "metadata": {
        "id": "Jc0Z-jkf7jax"
      },
      "source": [
        "import numpy as np\n",
        "def Fitness_Function(Solution):\n",
        "    Clashes_Count=0      # Finding number of students who have clashes\n",
        "    for s in Student_courses:\n",
        "        arr=[]\n",
        "        for i in range(len(s)):\n",
        "            arr.append(Solution[s[i]-1])\n",
        "        contains_duplicates = any(arr. count(element) > 1 for element in arr)\n",
        "        if contains_duplicates==True:\n",
        "            Clashes_Count+=1\n",
        "    CoursesInSlot=[[] for j in range(NoOfTimeSlots)]\n",
        "    for i in range(len(Solution)):\n",
        "        CoursesInSlot[Solution[i]].append(i+1)\n",
        "    n=NoOfStdInCourse.copy()\n",
        "    StudentsLeftSpaired=0       #Finding number of solutions who could not give exams on their exam slot\n",
        "    for s in CoursesInSlot:\n",
        "        room_no=0\n",
        "        for i in range(len(s)):\n",
        "            students=n[s[i]-1]\n",
        "            while students > 0 and room_no < NoOfRooms:\n",
        "                students-=room_cap[room_no]\n",
        "                room_no+=1\n",
        "            if (room_no == NoOfRooms):\n",
        "                StudentsLeftSpaired+=students\n",
        "    if Clashes_Count == 0 and StudentsLeftSpaired == 0:   # No clashes, no left over students\n",
        "        return 1\n",
        "    print('Number of students having clashes')\n",
        "    print(Clashes_Count)\n",
        "    print('Number of students who are not allocated in rooms')\n",
        "    print(StudentsLeftSpaired)\n",
        "    return 1/(StudentsLeftSpaired+Clashes_Count)"
      ],
      "execution_count": null,
      "outputs": []
    },
    {
      "cell_type": "markdown",
      "metadata": {
        "id": "r7FQLKMAi6sq"
      },
      "source": [
        "#####Neighboorhood Operator:"
      ]
    },
    {
      "cell_type": "code",
      "metadata": {
        "id": "wPEAWVFXZYmt"
      },
      "source": [
        "import random\n",
        "def neighbor(Sol):\n",
        "    ans=Sol.copy()\n",
        "    index=random.randint(0,len(courses)-1)\n",
        "    ans[index]=random.randint(0,NoOfTimeSlots-1)\n",
        "    return ans"
      ],
      "execution_count": null,
      "outputs": []
    },
    {
      "cell_type": "markdown",
      "metadata": {
        "id": "lXBb2b2jDNG_"
      },
      "source": [
        "Crossover Function:"
      ]
    },
    {
      "cell_type": "code",
      "metadata": {
        "id": "KswwTYg1qYw0"
      },
      "source": [
        "def crossover(Solutions):  #top best solutions\n",
        "    for i in range(0,500):\n",
        "        sol1=Solutions[random.randint(0,len(Solutions)-1)]\n",
        "        sol2=Solutions[random.randint(0,len(Solutions)-1)]\n",
        "        on_point=random.randint(0,NoOfTimeSlots-1)\n",
        "        arr=[]\n",
        "        arr1=[]\n",
        "        for j in range(0,on_point):\n",
        "            arr.append(sol1[j])\n",
        "            arr1.append(sol2[j])\n",
        "        for j in range(on_point,len(Solutions[i])):\n",
        "            arr.append(sol2[j])\n",
        "            arr1.append(sol1[j])\n",
        "        arr = mutation(arr)\n",
        "        arr1 = mutation(arr1)\n",
        "        Solutions.append(arr)\n",
        "        Solutions.append(arr1)\n",
        "    return Solutions"
      ],
      "execution_count": null,
      "outputs": []
    },
    {
      "cell_type": "markdown",
      "metadata": {
        "id": "zb89yBVGDUCb"
      },
      "source": [
        "#####Mutation Operation:"
      ]
    },
    {
      "cell_type": "code",
      "metadata": {
        "id": "AmFrvIHPvlom"
      },
      "source": [
        "def mutation(Solution):\n",
        "    prob = random.uniform(0,1)\n",
        "    if prob < 0.1:\n",
        "        index=random.randint(0,len(courses)-1)\n",
        "        Solution[index]=random.randint(0,NoOfTimeSlots-1)\n",
        "    return Solution"
      ],
      "execution_count": null,
      "outputs": []
    },
    {
      "cell_type": "markdown",
      "metadata": {
        "id": "CD6H9mQymMSn"
      },
      "source": [
        "#####Local Search"
      ]
    },
    {
      "cell_type": "code",
      "metadata": {
        "id": "dFa1TlzXcxQH"
      },
      "source": [
        "#generating 100 neighbours\n",
        "def Local_Search(Solution):\n",
        "    best=Fitness_Function(Solution)\n",
        "    neighbourHood=[]\n",
        "\n",
        "    for i in range(1000):\n",
        "        print('Local Search Best', i , 'Fitness So Far ', best,' solution',Solution)\n",
        "        if best > 0.95:\n",
        "            break\n",
        "        for i in range(1000):#finding 100 solutions\n",
        "            sol=neighbor(Solution)\n",
        "            neighbourHood.append((Fitness_Function(sol),sol))\n",
        "        neighbourHood.sort()\n",
        "        neighbourHood.reverse()\n",
        "\n",
        "        newScore=neighbourHood[0][0]\n",
        "        best_Sol=neighbourHood[0][1]\n",
        "\n",
        "        if newScore > best:\n",
        "            Solution.clear()\n",
        "            Solution=best_Sol.copy()\n",
        "            best=newScore\n",
        "        neighbourHood.clear()\n",
        "    return best_Sol"
      ],
      "execution_count": null,
      "outputs": []
    },
    {
      "cell_type": "markdown",
      "metadata": {
        "id": "gdOtxN4D76Lu"
      },
      "source": [
        "#####Genetic Algorithm:\n"
      ]
    },
    {
      "cell_type": "code",
      "metadata": {
        "id": "w-LZMEdHySkZ"
      },
      "source": [
        "def genetic_algo(Sols,generations):\n",
        "    for generation_count in range(generations):\n",
        "        generation=[]\n",
        "        for i in range(len(Sols)):\n",
        "            generation.append([Fitness_Function(Sols[i]),Sols[i]])\n",
        "        generation.sort()\n",
        "        generation.reverse()\n",
        "        gen=[]\n",
        "        print('Genetic Algo: Best ',generation_count,' Fitness So Far ', generation[0][0],' solution',generation[0][1])\n",
        "        if generation[0][0] == 1:\n",
        "            break\n",
        "        for j in range(100):\n",
        "            gen.append(generation[j][1])\n",
        "        new_generation=crossover(gen)\n",
        "        Sols=new_generation\n",
        "    return generation[0][1]"
      ],
      "execution_count": null,
      "outputs": []
    },
    {
      "cell_type": "markdown",
      "metadata": {
        "id": "jQl3GYrPCoYi"
      },
      "source": [
        "####Creating population of 1000:"
      ]
    },
    {
      "cell_type": "code",
      "metadata": {
        "id": "0phXi-5WCk4Z"
      },
      "source": [
        "Sols=[]\n",
        "for j in range(1000):\n",
        "    Solution=[]\n",
        "    for i in range(len(courses)):\n",
        "        Solution.append(random.randint(0,NoOfTimeSlots-1))\n",
        "    Sols.append(Solution)"
      ],
      "execution_count": null,
      "outputs": []
    },
    {
      "cell_type": "markdown",
      "metadata": {
        "id": "uU9JY08dC0I2"
      },
      "source": [
        "#####Finding Best Time Table using Genetic Algorithm and Local Search"
      ]
    },
    {
      "cell_type": "code",
      "metadata": {
        "colab": {
          "base_uri": "https://localhost:8080/"
        },
        "id": "cQK3y72sCy1e",
        "outputId": "3caf7769-fffd-4e83-a62c-7581de860e30"
      },
      "source": [
        "Solution=genetic_algo(Sols,1)\n",
        "Solution=Local_Search(Solution)\n"
      ],
      "execution_count": null,
      "outputs": [
        {
          "output_type": "stream",
          "text": [
            "Genetic Algo: Best  0  Fitness So Far  0.005847953216374269  solution [3, 18, 13, 7, 19, 17, 1, 15, 8, 16, 16, 11, 7, 4, 9, 1, 14, 19, 8, 15, 12, 9, 6, 18, 5, 9, 4, 6, 16, 12, 0, 7, 1, 3, 10, 18, 5, 2, 9, 9, 16, 6, 4, 19, 9, 7, 17, 0, 6, 1, 11, 7, 4, 15, 17, 2, 3, 3, 4, 7, 10, 3, 9, 19, 14, 4, 6, 10, 14, 11, 5]\n",
            "Local Search Best 0 Fitness So Far  0.005847953216374269  solution [3, 18, 13, 7, 19, 17, 1, 15, 8, 16, 16, 11, 7, 4, 9, 1, 14, 19, 8, 15, 12, 9, 6, 18, 5, 9, 4, 6, 16, 12, 0, 7, 1, 3, 10, 18, 5, 2, 9, 9, 16, 6, 4, 19, 9, 7, 17, 0, 6, 1, 11, 7, 4, 15, 17, 2, 3, 3, 4, 7, 10, 3, 9, 19, 14, 4, 6, 10, 14, 11, 5]\n",
            "Local Search Best 1 Fitness So Far  0.006944444444444444  solution [3, 18, 13, 13, 19, 17, 1, 15, 8, 16, 16, 11, 7, 4, 9, 1, 14, 19, 8, 15, 12, 9, 6, 18, 5, 9, 4, 6, 16, 12, 0, 7, 1, 3, 10, 18, 5, 2, 9, 9, 16, 6, 4, 19, 9, 7, 17, 0, 6, 1, 11, 7, 4, 15, 17, 2, 3, 3, 4, 7, 10, 3, 9, 19, 14, 4, 6, 10, 14, 11, 5]\n",
            "Local Search Best 2 Fitness So Far  0.008333333333333333  solution [3, 18, 13, 13, 19, 17, 1, 15, 8, 16, 16, 11, 7, 4, 9, 1, 14, 19, 8, 15, 12, 9, 6, 18, 5, 9, 4, 6, 16, 12, 0, 7, 1, 3, 10, 18, 5, 2, 9, 9, 16, 6, 4, 19, 9, 7, 17, 0, 6, 1, 11, 7, 4, 15, 17, 2, 15, 3, 4, 7, 10, 3, 9, 19, 14, 4, 6, 10, 14, 11, 5]\n",
            "Local Search Best 3 Fitness So Far  0.010101010101010102  solution [3, 18, 13, 13, 19, 17, 1, 15, 8, 16, 16, 11, 7, 4, 9, 1, 14, 19, 8, 15, 12, 9, 6, 18, 5, 9, 4, 6, 16, 12, 0, 7, 1, 3, 10, 18, 5, 2, 9, 9, 16, 6, 4, 5, 9, 7, 17, 0, 6, 1, 11, 7, 4, 15, 17, 2, 15, 3, 4, 7, 10, 3, 9, 19, 14, 4, 6, 10, 14, 11, 5]\n",
            "Local Search Best 4 Fitness So Far  0.0125  solution [3, 18, 13, 13, 19, 17, 1, 15, 8, 16, 16, 11, 7, 10, 9, 1, 14, 19, 8, 15, 12, 9, 6, 18, 5, 9, 4, 6, 16, 12, 0, 7, 1, 3, 10, 18, 5, 2, 9, 9, 16, 6, 4, 5, 9, 7, 17, 0, 6, 1, 11, 7, 4, 15, 17, 2, 15, 3, 4, 7, 10, 3, 9, 19, 14, 4, 6, 10, 14, 11, 5]\n",
            "Local Search Best 5 Fitness So Far  0.014492753623188406  solution [3, 18, 13, 13, 19, 17, 1, 15, 8, 16, 16, 11, 7, 10, 9, 1, 14, 19, 8, 15, 12, 9, 6, 18, 5, 9, 4, 6, 16, 12, 0, 7, 1, 3, 10, 18, 5, 2, 9, 9, 16, 6, 4, 5, 9, 7, 17, 0, 12, 1, 11, 7, 4, 15, 17, 2, 15, 3, 4, 7, 10, 3, 9, 19, 14, 4, 6, 10, 14, 11, 5]\n",
            "Local Search Best 6 Fitness So Far  0.016666666666666666  solution [3, 18, 13, 13, 19, 17, 1, 15, 8, 16, 16, 11, 7, 10, 9, 1, 14, 19, 8, 15, 12, 9, 6, 18, 5, 9, 4, 6, 16, 12, 0, 7, 1, 3, 10, 18, 5, 2, 9, 9, 16, 6, 4, 5, 9, 7, 17, 0, 12, 1, 11, 7, 4, 15, 17, 2, 15, 3, 4, 7, 10, 3, 9, 19, 14, 4, 6, 10, 16, 11, 5]\n",
            "Local Search Best 7 Fitness So Far  0.0196078431372549  solution [3, 18, 13, 13, 19, 17, 1, 15, 8, 16, 16, 11, 7, 10, 9, 1, 14, 19, 8, 2, 12, 9, 6, 18, 5, 9, 4, 6, 16, 12, 0, 7, 1, 3, 10, 18, 5, 2, 9, 9, 16, 6, 4, 5, 9, 7, 17, 0, 12, 1, 11, 7, 4, 15, 17, 2, 15, 3, 4, 7, 10, 3, 9, 19, 14, 4, 6, 10, 16, 11, 5]\n",
            "Local Search Best 8 Fitness So Far  0.022222222222222223  solution [3, 18, 13, 13, 19, 17, 1, 15, 8, 16, 16, 11, 7, 10, 9, 1, 14, 19, 8, 2, 12, 9, 6, 18, 5, 9, 17, 6, 16, 12, 0, 7, 1, 3, 10, 18, 5, 2, 9, 9, 16, 6, 4, 5, 9, 7, 17, 0, 12, 1, 11, 7, 4, 15, 17, 2, 15, 3, 4, 7, 10, 3, 9, 19, 14, 4, 6, 10, 16, 11, 5]\n",
            "Local Search Best 9 Fitness So Far  0.02631578947368421  solution [3, 18, 13, 13, 19, 17, 1, 15, 8, 16, 16, 11, 15, 10, 9, 1, 14, 19, 8, 2, 12, 9, 6, 18, 5, 9, 17, 6, 16, 12, 0, 7, 1, 3, 10, 18, 5, 2, 9, 9, 16, 6, 4, 5, 9, 7, 17, 0, 12, 1, 11, 7, 4, 15, 17, 2, 15, 3, 4, 7, 10, 3, 9, 19, 14, 4, 6, 10, 16, 11, 5]\n",
            "Local Search Best 10 Fitness So Far  0.03125  solution [3, 18, 13, 13, 19, 17, 1, 15, 8, 16, 16, 11, 15, 10, 9, 1, 14, 19, 8, 2, 12, 13, 6, 18, 5, 9, 17, 6, 16, 12, 0, 7, 1, 3, 10, 18, 5, 2, 9, 9, 16, 6, 4, 5, 9, 7, 17, 0, 12, 1, 11, 7, 4, 15, 17, 2, 15, 3, 4, 7, 10, 3, 9, 19, 14, 4, 6, 10, 16, 11, 5]\n",
            "Local Search Best 11 Fitness So Far  0.038461538461538464  solution [3, 18, 13, 13, 19, 17, 1, 15, 8, 16, 16, 11, 15, 10, 9, 1, 14, 19, 8, 2, 12, 13, 6, 18, 5, 9, 17, 6, 16, 12, 0, 7, 1, 3, 10, 18, 5, 2, 9, 9, 16, 6, 4, 5, 9, 7, 17, 0, 12, 1, 8, 7, 4, 15, 17, 2, 15, 3, 4, 7, 10, 3, 9, 19, 14, 4, 6, 10, 16, 11, 5]\n",
            "Local Search Best 12 Fitness So Far  0.045454545454545456  solution [3, 18, 13, 13, 19, 17, 1, 15, 8, 16, 16, 11, 15, 10, 9, 1, 14, 19, 8, 2, 12, 13, 6, 18, 5, 9, 17, 6, 16, 12, 0, 7, 1, 3, 10, 18, 5, 2, 9, 9, 16, 6, 4, 5, 9, 7, 17, 0, 12, 1, 8, 7, 4, 15, 17, 2, 15, 3, 4, 7, 10, 3, 9, 19, 14, 4, 6, 12, 16, 11, 5]\n",
            "Local Search Best 13 Fitness So Far  0.05263157894736842  solution [3, 18, 13, 13, 19, 17, 1, 15, 8, 16, 16, 11, 15, 10, 9, 1, 14, 19, 8, 2, 12, 13, 6, 18, 5, 9, 17, 6, 16, 12, 0, 7, 1, 3, 10, 18, 5, 2, 9, 9, 16, 1, 4, 5, 9, 7, 17, 0, 12, 1, 8, 7, 4, 15, 17, 2, 15, 3, 4, 7, 10, 3, 9, 19, 14, 4, 6, 12, 16, 11, 5]\n",
            "Local Search Best 14 Fitness So Far  0.058823529411764705  solution [3, 18, 13, 13, 19, 17, 1, 15, 8, 16, 16, 11, 15, 10, 11, 1, 14, 19, 8, 2, 12, 13, 6, 18, 5, 9, 17, 6, 16, 12, 0, 7, 1, 3, 10, 18, 5, 2, 9, 9, 16, 1, 4, 5, 9, 7, 17, 0, 12, 1, 8, 7, 4, 15, 17, 2, 15, 3, 4, 7, 10, 3, 9, 19, 14, 4, 6, 12, 16, 11, 5]\n",
            "Local Search Best 15 Fitness So Far  0.07142857142857142  solution [3, 18, 13, 13, 19, 17, 1, 15, 8, 16, 16, 11, 15, 10, 11, 1, 14, 19, 8, 2, 12, 13, 6, 18, 5, 9, 17, 6, 16, 12, 0, 7, 1, 3, 10, 18, 5, 2, 9, 9, 16, 1, 4, 5, 9, 7, 17, 0, 12, 1, 8, 7, 4, 15, 17, 2, 15, 3, 14, 7, 10, 3, 9, 19, 14, 4, 6, 12, 16, 11, 5]\n",
            "Local Search Best 16 Fitness So Far  0.09090909090909091  solution [3, 18, 13, 13, 19, 17, 1, 15, 8, 16, 16, 11, 15, 10, 11, 0, 14, 19, 8, 2, 12, 13, 6, 18, 5, 9, 17, 6, 16, 12, 0, 7, 1, 3, 10, 18, 5, 2, 9, 9, 16, 1, 4, 5, 9, 7, 17, 0, 12, 1, 8, 7, 4, 15, 17, 2, 15, 3, 14, 7, 10, 3, 9, 19, 14, 4, 6, 12, 16, 11, 5]\n",
            "Local Search Best 17 Fitness So Far  0.1  solution [3, 18, 13, 13, 19, 17, 1, 15, 8, 18, 16, 11, 15, 10, 11, 0, 14, 19, 8, 2, 12, 13, 6, 18, 5, 9, 17, 6, 16, 12, 0, 7, 1, 3, 10, 18, 5, 2, 9, 9, 16, 1, 4, 5, 9, 7, 17, 0, 12, 1, 8, 7, 4, 15, 17, 2, 15, 3, 14, 7, 10, 3, 9, 19, 14, 4, 6, 12, 16, 11, 5]\n",
            "Local Search Best 18 Fitness So Far  0.1111111111111111  solution [3, 18, 13, 13, 19, 17, 1, 15, 8, 18, 16, 11, 15, 10, 11, 0, 14, 19, 8, 2, 12, 13, 6, 18, 5, 9, 17, 6, 16, 12, 0, 7, 1, 3, 10, 18, 5, 2, 9, 9, 16, 1, 4, 5, 9, 7, 17, 0, 12, 1, 8, 7, 4, 15, 17, 15, 15, 3, 14, 7, 10, 3, 9, 19, 14, 4, 6, 12, 16, 11, 5]\n",
            "Local Search Best 19 Fitness So Far  0.14285714285714285  solution [3, 18, 13, 13, 19, 17, 1, 15, 8, 18, 16, 11, 15, 10, 11, 0, 14, 19, 8, 2, 12, 13, 6, 18, 5, 9, 17, 6, 16, 12, 0, 7, 1, 3, 10, 18, 5, 2, 9, 9, 16, 1, 4, 5, 9, 7, 17, 0, 12, 1, 8, 7, 4, 15, 17, 15, 15, 3, 14, 7, 10, 3, 9, 11, 14, 4, 6, 12, 16, 11, 5]\n",
            "Local Search Best 20 Fitness So Far  0.16666666666666666  solution [3, 18, 13, 13, 19, 17, 1, 15, 8, 18, 16, 11, 15, 10, 11, 0, 14, 19, 8, 2, 12, 13, 6, 18, 5, 9, 17, 6, 16, 12, 0, 7, 1, 3, 10, 18, 5, 2, 9, 9, 16, 1, 4, 5, 9, 7, 17, 0, 12, 1, 8, 7, 4, 15, 17, 15, 15, 3, 14, 7, 10, 3, 19, 11, 14, 4, 6, 12, 16, 11, 5]\n",
            "Local Search Best 21 Fitness So Far  0.2  solution [3, 18, 13, 13, 19, 17, 1, 15, 8, 18, 16, 11, 15, 10, 11, 0, 14, 19, 8, 2, 12, 13, 6, 18, 5, 9, 17, 6, 16, 12, 0, 7, 1, 3, 10, 18, 5, 2, 9, 9, 16, 1, 4, 5, 9, 7, 17, 0, 12, 1, 8, 7, 4, 15, 17, 15, 15, 3, 14, 9, 10, 3, 19, 11, 14, 4, 6, 12, 16, 11, 5]\n",
            "Local Search Best 22 Fitness So Far  0.25  solution [3, 18, 13, 13, 19, 17, 1, 15, 8, 18, 16, 11, 15, 10, 11, 0, 14, 19, 8, 2, 12, 13, 6, 18, 5, 9, 17, 6, 16, 12, 0, 7, 1, 3, 10, 18, 5, 2, 9, 9, 16, 1, 4, 5, 9, 7, 17, 0, 12, 1, 8, 7, 4, 15, 17, 15, 15, 7, 14, 9, 10, 3, 19, 11, 14, 4, 6, 12, 16, 11, 5]\n",
            "Local Search Best 23 Fitness So Far  0.3333333333333333  solution [3, 18, 13, 13, 19, 17, 1, 12, 8, 18, 16, 11, 15, 10, 11, 0, 14, 19, 8, 2, 12, 13, 6, 18, 5, 9, 17, 6, 16, 12, 0, 7, 1, 3, 10, 18, 5, 2, 9, 9, 16, 1, 4, 5, 9, 7, 17, 0, 12, 1, 8, 7, 4, 15, 17, 15, 15, 7, 14, 9, 10, 3, 19, 11, 14, 4, 6, 12, 16, 11, 5]\n",
            "Local Search Best 24 Fitness So Far  0.3333333333333333  solution [3, 18, 13, 13, 19, 17, 1, 12, 8, 18, 16, 11, 15, 10, 11, 0, 14, 19, 8, 2, 12, 13, 6, 18, 5, 9, 17, 6, 16, 12, 0, 7, 1, 3, 10, 18, 5, 2, 9, 9, 16, 1, 4, 5, 9, 7, 17, 0, 12, 1, 8, 7, 4, 15, 17, 15, 15, 7, 14, 9, 10, 3, 19, 11, 14, 4, 6, 12, 16, 11, 5]\n",
            "Local Search Best 25 Fitness So Far  0.3333333333333333  solution [3, 18, 13, 13, 19, 17, 1, 12, 8, 18, 16, 11, 15, 10, 11, 0, 14, 19, 8, 2, 12, 13, 6, 18, 5, 9, 17, 6, 16, 12, 0, 7, 1, 3, 10, 18, 5, 2, 9, 9, 16, 1, 4, 5, 9, 7, 17, 0, 12, 1, 8, 7, 4, 15, 17, 15, 15, 7, 14, 9, 10, 3, 19, 11, 14, 4, 6, 12, 16, 11, 5]\n",
            "Local Search Best 26 Fitness So Far  0.5  solution [3, 18, 13, 13, 19, 17, 1, 12, 8, 18, 16, 11, 15, 10, 11, 0, 14, 19, 8, 2, 12, 13, 6, 18, 5, 9, 17, 6, 16, 12, 0, 7, 1, 3, 10, 18, 5, 2, 9, 9, 16, 1, 4, 5, 9, 7, 17, 0, 12, 1, 8, 7, 4, 15, 2, 15, 15, 7, 14, 9, 10, 3, 19, 11, 14, 4, 6, 12, 16, 11, 5]\n",
            "Local Search Best 27 Fitness So Far  1.0  solution [3, 18, 13, 13, 19, 17, 1, 12, 8, 18, 16, 11, 15, 10, 11, 0, 14, 19, 8, 2, 12, 13, 6, 18, 5, 9, 17, 6, 16, 12, 0, 7, 1, 3, 10, 18, 5, 2, 9, 9, 16, 1, 4, 5, 9, 7, 17, 0, 12, 1, 8, 7, 4, 15, 2, 15, 15, 7, 14, 9, 10, 3, 19, 11, 14, 4, 6, 17, 16, 11, 5]\n"
          ],
          "name": "stdout"
        }
      ]
    },
    {
      "cell_type": "code",
      "metadata": {
        "colab": {
          "base_uri": "https://localhost:8080/"
        },
        "id": "LEJQLS5DeZCn",
        "outputId": "3dbff6a0-bf16-439d-dd54-fe5d8d6ab582"
      },
      "source": [
        "sols=[3, 18, 13, 13, 19, 17, 1, 12, 8, 18, 16, 11, 15, 10, 11, 0, 14, 19, 8, 2, 12, 13, 6, 18, 5, 9, 17, 6, 16, 12, 0, 7, 1, 3, 10, 18, 5, 2, 9, 9, 16, 1, 4, 5, 9, 7, 17, 0, 12, 1, 8, 7, 4, 15, 2, 15, 15, 7, 14, 9, 10, 3, 19, 11, 14, 4, 6, 17, 16, 11, 5]\n",
        "print(Fitness_Function(sols))"
      ],
      "execution_count": null,
      "outputs": [
        {
          "output_type": "stream",
          "text": [
            "Number of students having clashes\n",
            "1\n",
            "Number of students who are not allocated in rooms\n",
            "0\n",
            "1.0\n"
          ],
          "name": "stdout"
        }
      ]
    }
  ]
}